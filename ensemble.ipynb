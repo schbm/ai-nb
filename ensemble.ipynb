{
 "cells": [
  {
   "cell_type": "markdown",
   "id": "3edf9e48",
   "metadata": {},
   "source": [
    "# Ensemble Methods"
   ]
  },
  {
   "cell_type": "markdown",
   "id": "c734439c",
   "metadata": {},
   "source": [
    "### The data\n",
    "Download the data from moodle: kaggle_fifa21_players.csv  \n",
    "You find a description of this dataset here:  \n",
    "https://www.kaggle.com/stefanoleone992/fifa-21-complete-player-dataset"
   ]
  },
  {
   "cell_type": "markdown",
   "id": "5d4bd86a",
   "metadata": {},
   "source": [
    "**Goal:** The dataset contains a large number of attributes for each football player in the FIFA 21 game. Try to explore the dataset and use an ensemble method to predict the attributes 'overall'."
   ]
  },
  {
   "cell_type": "markdown",
   "id": "8b764a3b",
   "metadata": {},
   "source": [
    "### Hints\n",
    "- Download the dataset and load the CSV file using pandas and the read_csv function  \n",
    "- To begin with, focus on a few features (by creating a copy of the dataframe with only a few columns) and only a subset of the data (e.g. 1000 random rows).    \n",
    "- Explore the data (for example by visualizing it). It is important to know if you have invalid values in your dataset. Remove them (this step is called cleansing).  \n",
    "- Scale the data. \n",
    "  https://scikit-learn.org/stable/modules/generated/sklearn.preprocessing.scale.html  \n",
    "  https://scikit-learn.org/stable/modules/generated/sklearn.pipeline.Pipeline.html\n",
    "- Use sklearn.linear_model import LinearRegression. You can first train a single model to get an idea of the performance you can expect. \n",
    "https://scikit-learn.org/stable/modules/generated/sklearn.linear_model.LinearRegression.html   \n",
    "- Be careful: some data is categorical (e.g. work_rate). Either exclude it from the data or find a way to turn it into a numerical value.\n",
    "- Use the BaggingRegressor to combine multiple linear models:  \n",
    "https://scikit-learn.org/stable/modules/generated/sklearn.ensemble.BaggingRegressor.html  \n",
    "- Evaluate the performance on an unused test-set.  "
   ]
  },
  {
   "cell_type": "code",
   "execution_count": 1,
   "id": "57ce9a39",
   "metadata": {},
   "outputs": [],
   "source": [
    "import numpy as np\n",
    "import pandas as pd\n",
    "from sklearn.model_selection import train_test_split\n",
    "import seaborn as sns"
   ]
  },
  {
   "cell_type": "code",
   "execution_count": 2,
   "id": "1585f700",
   "metadata": {},
   "outputs": [
    {
     "data": {
      "text/html": [
       "<div>\n",
       "<style scoped>\n",
       "    .dataframe tbody tr th:only-of-type {\n",
       "        vertical-align: middle;\n",
       "    }\n",
       "\n",
       "    .dataframe tbody tr th {\n",
       "        vertical-align: top;\n",
       "    }\n",
       "\n",
       "    .dataframe thead th {\n",
       "        text-align: right;\n",
       "    }\n",
       "</style>\n",
       "<table border=\"1\" class=\"dataframe\">\n",
       "  <thead>\n",
       "    <tr style=\"text-align: right;\">\n",
       "      <th></th>\n",
       "      <th>sofifa_id</th>\n",
       "      <th>player_url</th>\n",
       "      <th>short_name</th>\n",
       "      <th>long_name</th>\n",
       "      <th>age</th>\n",
       "      <th>dob</th>\n",
       "      <th>height_cm</th>\n",
       "      <th>weight_kg</th>\n",
       "      <th>nationality</th>\n",
       "      <th>club_name</th>\n",
       "      <th>...</th>\n",
       "      <th>lwb</th>\n",
       "      <th>ldm</th>\n",
       "      <th>cdm</th>\n",
       "      <th>rdm</th>\n",
       "      <th>rwb</th>\n",
       "      <th>lb</th>\n",
       "      <th>lcb</th>\n",
       "      <th>cb</th>\n",
       "      <th>rcb</th>\n",
       "      <th>rb</th>\n",
       "    </tr>\n",
       "  </thead>\n",
       "  <tbody>\n",
       "    <tr>\n",
       "      <th>0</th>\n",
       "      <td>158023</td>\n",
       "      <td>https://sofifa.com/player/158023/lionel-messi/...</td>\n",
       "      <td>L. Messi</td>\n",
       "      <td>Lionel Andrés Messi Cuccittini</td>\n",
       "      <td>33</td>\n",
       "      <td>1987-06-24</td>\n",
       "      <td>170</td>\n",
       "      <td>72</td>\n",
       "      <td>Argentina</td>\n",
       "      <td>FC Barcelona</td>\n",
       "      <td>...</td>\n",
       "      <td>66+3</td>\n",
       "      <td>65+3</td>\n",
       "      <td>65+3</td>\n",
       "      <td>65+3</td>\n",
       "      <td>66+3</td>\n",
       "      <td>62+3</td>\n",
       "      <td>52+3</td>\n",
       "      <td>52+3</td>\n",
       "      <td>52+3</td>\n",
       "      <td>62+3</td>\n",
       "    </tr>\n",
       "    <tr>\n",
       "      <th>1</th>\n",
       "      <td>20801</td>\n",
       "      <td>https://sofifa.com/player/20801/c-ronaldo-dos-...</td>\n",
       "      <td>Cristiano Ronaldo</td>\n",
       "      <td>Cristiano Ronaldo dos Santos Aveiro</td>\n",
       "      <td>35</td>\n",
       "      <td>1985-02-05</td>\n",
       "      <td>187</td>\n",
       "      <td>83</td>\n",
       "      <td>Portugal</td>\n",
       "      <td>Juventus</td>\n",
       "      <td>...</td>\n",
       "      <td>65+3</td>\n",
       "      <td>61+3</td>\n",
       "      <td>61+3</td>\n",
       "      <td>61+3</td>\n",
       "      <td>65+3</td>\n",
       "      <td>61+3</td>\n",
       "      <td>54+3</td>\n",
       "      <td>54+3</td>\n",
       "      <td>54+3</td>\n",
       "      <td>61+3</td>\n",
       "    </tr>\n",
       "    <tr>\n",
       "      <th>2</th>\n",
       "      <td>200389</td>\n",
       "      <td>https://sofifa.com/player/200389/jan-oblak/210002</td>\n",
       "      <td>J. Oblak</td>\n",
       "      <td>Jan Oblak</td>\n",
       "      <td>27</td>\n",
       "      <td>1993-01-07</td>\n",
       "      <td>188</td>\n",
       "      <td>87</td>\n",
       "      <td>Slovenia</td>\n",
       "      <td>Atlético Madrid</td>\n",
       "      <td>...</td>\n",
       "      <td>32+3</td>\n",
       "      <td>36+3</td>\n",
       "      <td>36+3</td>\n",
       "      <td>36+3</td>\n",
       "      <td>32+3</td>\n",
       "      <td>32+3</td>\n",
       "      <td>33+3</td>\n",
       "      <td>33+3</td>\n",
       "      <td>33+3</td>\n",
       "      <td>32+3</td>\n",
       "    </tr>\n",
       "    <tr>\n",
       "      <th>3</th>\n",
       "      <td>188545</td>\n",
       "      <td>https://sofifa.com/player/188545/robert-lewand...</td>\n",
       "      <td>R. Lewandowski</td>\n",
       "      <td>Robert Lewandowski</td>\n",
       "      <td>31</td>\n",
       "      <td>1988-08-21</td>\n",
       "      <td>184</td>\n",
       "      <td>80</td>\n",
       "      <td>Poland</td>\n",
       "      <td>FC Bayern München</td>\n",
       "      <td>...</td>\n",
       "      <td>64+3</td>\n",
       "      <td>65+3</td>\n",
       "      <td>65+3</td>\n",
       "      <td>65+3</td>\n",
       "      <td>64+3</td>\n",
       "      <td>61+3</td>\n",
       "      <td>60+3</td>\n",
       "      <td>60+3</td>\n",
       "      <td>60+3</td>\n",
       "      <td>61+3</td>\n",
       "    </tr>\n",
       "    <tr>\n",
       "      <th>4</th>\n",
       "      <td>190871</td>\n",
       "      <td>https://sofifa.com/player/190871/neymar-da-sil...</td>\n",
       "      <td>Neymar Jr</td>\n",
       "      <td>Neymar da Silva Santos Júnior</td>\n",
       "      <td>28</td>\n",
       "      <td>1992-02-05</td>\n",
       "      <td>175</td>\n",
       "      <td>68</td>\n",
       "      <td>Brazil</td>\n",
       "      <td>Paris Saint-Germain</td>\n",
       "      <td>...</td>\n",
       "      <td>67+3</td>\n",
       "      <td>62+3</td>\n",
       "      <td>62+3</td>\n",
       "      <td>62+3</td>\n",
       "      <td>67+3</td>\n",
       "      <td>62+3</td>\n",
       "      <td>49+3</td>\n",
       "      <td>49+3</td>\n",
       "      <td>49+3</td>\n",
       "      <td>62+3</td>\n",
       "    </tr>\n",
       "    <tr>\n",
       "      <th>...</th>\n",
       "      <td>...</td>\n",
       "      <td>...</td>\n",
       "      <td>...</td>\n",
       "      <td>...</td>\n",
       "      <td>...</td>\n",
       "      <td>...</td>\n",
       "      <td>...</td>\n",
       "      <td>...</td>\n",
       "      <td>...</td>\n",
       "      <td>...</td>\n",
       "      <td>...</td>\n",
       "      <td>...</td>\n",
       "      <td>...</td>\n",
       "      <td>...</td>\n",
       "      <td>...</td>\n",
       "      <td>...</td>\n",
       "      <td>...</td>\n",
       "      <td>...</td>\n",
       "      <td>...</td>\n",
       "      <td>...</td>\n",
       "      <td>...</td>\n",
       "    </tr>\n",
       "    <tr>\n",
       "      <th>18939</th>\n",
       "      <td>256679</td>\n",
       "      <td>https://sofifa.com/player/256679/kevin-angulo/...</td>\n",
       "      <td>K. Angulo</td>\n",
       "      <td>Kevin Angulo</td>\n",
       "      <td>24</td>\n",
       "      <td>1996-04-13</td>\n",
       "      <td>176</td>\n",
       "      <td>73</td>\n",
       "      <td>Colombia</td>\n",
       "      <td>América de Cali</td>\n",
       "      <td>...</td>\n",
       "      <td>47+2</td>\n",
       "      <td>47+2</td>\n",
       "      <td>47+2</td>\n",
       "      <td>47+2</td>\n",
       "      <td>47+2</td>\n",
       "      <td>47+2</td>\n",
       "      <td>46+2</td>\n",
       "      <td>46+2</td>\n",
       "      <td>46+2</td>\n",
       "      <td>47+2</td>\n",
       "    </tr>\n",
       "    <tr>\n",
       "      <th>18940</th>\n",
       "      <td>257710</td>\n",
       "      <td>https://sofifa.com/player/257710/mengxuan-zhan...</td>\n",
       "      <td>Zhang Mengxuan</td>\n",
       "      <td>Mengxuan Zhang</td>\n",
       "      <td>21</td>\n",
       "      <td>1999-04-26</td>\n",
       "      <td>177</td>\n",
       "      <td>70</td>\n",
       "      <td>China PR</td>\n",
       "      <td>Chongqing Dangdai Lifan FC SWM Team</td>\n",
       "      <td>...</td>\n",
       "      <td>42+2</td>\n",
       "      <td>41+2</td>\n",
       "      <td>41+2</td>\n",
       "      <td>41+2</td>\n",
       "      <td>42+2</td>\n",
       "      <td>45+2</td>\n",
       "      <td>47+2</td>\n",
       "      <td>47+2</td>\n",
       "      <td>47+2</td>\n",
       "      <td>45+2</td>\n",
       "    </tr>\n",
       "    <tr>\n",
       "      <th>18941</th>\n",
       "      <td>250989</td>\n",
       "      <td>https://sofifa.com/player/250989/zhenghao-wang...</td>\n",
       "      <td>Wang Zhenghao</td>\n",
       "      <td>王政豪</td>\n",
       "      <td>20</td>\n",
       "      <td>2000-06-28</td>\n",
       "      <td>185</td>\n",
       "      <td>74</td>\n",
       "      <td>China PR</td>\n",
       "      <td>Tianjin TEDA FC</td>\n",
       "      <td>...</td>\n",
       "      <td>42+2</td>\n",
       "      <td>42+2</td>\n",
       "      <td>42+2</td>\n",
       "      <td>42+2</td>\n",
       "      <td>42+2</td>\n",
       "      <td>44+2</td>\n",
       "      <td>47+2</td>\n",
       "      <td>47+2</td>\n",
       "      <td>47+2</td>\n",
       "      <td>44+2</td>\n",
       "    </tr>\n",
       "    <tr>\n",
       "      <th>18942</th>\n",
       "      <td>257697</td>\n",
       "      <td>https://sofifa.com/player/257697/zitong-chen/2...</td>\n",
       "      <td>Chen Zitong</td>\n",
       "      <td>Zitong Chen</td>\n",
       "      <td>23</td>\n",
       "      <td>1997-02-20</td>\n",
       "      <td>186</td>\n",
       "      <td>80</td>\n",
       "      <td>China PR</td>\n",
       "      <td>Shijiazhuang Ever Bright F.C.</td>\n",
       "      <td>...</td>\n",
       "      <td>47+2</td>\n",
       "      <td>49+2</td>\n",
       "      <td>49+2</td>\n",
       "      <td>49+2</td>\n",
       "      <td>47+2</td>\n",
       "      <td>47+2</td>\n",
       "      <td>49+2</td>\n",
       "      <td>49+2</td>\n",
       "      <td>49+2</td>\n",
       "      <td>47+2</td>\n",
       "    </tr>\n",
       "    <tr>\n",
       "      <th>18943</th>\n",
       "      <td>257936</td>\n",
       "      <td>https://sofifa.com/player/257936/yue-song/210002</td>\n",
       "      <td>Song Yue</td>\n",
       "      <td>Yue Song</td>\n",
       "      <td>28</td>\n",
       "      <td>1991-11-20</td>\n",
       "      <td>185</td>\n",
       "      <td>79</td>\n",
       "      <td>China PR</td>\n",
       "      <td>Tianjin TEDA FC</td>\n",
       "      <td>...</td>\n",
       "      <td>47+0</td>\n",
       "      <td>47+0</td>\n",
       "      <td>47+0</td>\n",
       "      <td>47+0</td>\n",
       "      <td>47+0</td>\n",
       "      <td>47+0</td>\n",
       "      <td>46+1</td>\n",
       "      <td>46+1</td>\n",
       "      <td>46+1</td>\n",
       "      <td>47+0</td>\n",
       "    </tr>\n",
       "  </tbody>\n",
       "</table>\n",
       "<p>18944 rows × 106 columns</p>\n",
       "</div>"
      ],
      "text/plain": [
       "       sofifa_id                                         player_url  \\\n",
       "0         158023  https://sofifa.com/player/158023/lionel-messi/...   \n",
       "1          20801  https://sofifa.com/player/20801/c-ronaldo-dos-...   \n",
       "2         200389  https://sofifa.com/player/200389/jan-oblak/210002   \n",
       "3         188545  https://sofifa.com/player/188545/robert-lewand...   \n",
       "4         190871  https://sofifa.com/player/190871/neymar-da-sil...   \n",
       "...          ...                                                ...   \n",
       "18939     256679  https://sofifa.com/player/256679/kevin-angulo/...   \n",
       "18940     257710  https://sofifa.com/player/257710/mengxuan-zhan...   \n",
       "18941     250989  https://sofifa.com/player/250989/zhenghao-wang...   \n",
       "18942     257697  https://sofifa.com/player/257697/zitong-chen/2...   \n",
       "18943     257936   https://sofifa.com/player/257936/yue-song/210002   \n",
       "\n",
       "              short_name                            long_name  age  \\\n",
       "0               L. Messi       Lionel Andrés Messi Cuccittini   33   \n",
       "1      Cristiano Ronaldo  Cristiano Ronaldo dos Santos Aveiro   35   \n",
       "2               J. Oblak                            Jan Oblak   27   \n",
       "3         R. Lewandowski                   Robert Lewandowski   31   \n",
       "4              Neymar Jr        Neymar da Silva Santos Júnior   28   \n",
       "...                  ...                                  ...  ...   \n",
       "18939          K. Angulo                         Kevin Angulo   24   \n",
       "18940     Zhang Mengxuan                       Mengxuan Zhang   21   \n",
       "18941      Wang Zhenghao                                  王政豪   20   \n",
       "18942        Chen Zitong                          Zitong Chen   23   \n",
       "18943           Song Yue                             Yue Song   28   \n",
       "\n",
       "              dob  height_cm  weight_kg nationality  \\\n",
       "0      1987-06-24        170         72   Argentina   \n",
       "1      1985-02-05        187         83    Portugal   \n",
       "2      1993-01-07        188         87    Slovenia   \n",
       "3      1988-08-21        184         80      Poland   \n",
       "4      1992-02-05        175         68      Brazil   \n",
       "...           ...        ...        ...         ...   \n",
       "18939  1996-04-13        176         73    Colombia   \n",
       "18940  1999-04-26        177         70    China PR   \n",
       "18941  2000-06-28        185         74    China PR   \n",
       "18942  1997-02-20        186         80    China PR   \n",
       "18943  1991-11-20        185         79    China PR   \n",
       "\n",
       "                                 club_name  ...   lwb   ldm   cdm   rdm   rwb  \\\n",
       "0                             FC Barcelona  ...  66+3  65+3  65+3  65+3  66+3   \n",
       "1                                 Juventus  ...  65+3  61+3  61+3  61+3  65+3   \n",
       "2                          Atlético Madrid  ...  32+3  36+3  36+3  36+3  32+3   \n",
       "3                        FC Bayern München  ...  64+3  65+3  65+3  65+3  64+3   \n",
       "4                      Paris Saint-Germain  ...  67+3  62+3  62+3  62+3  67+3   \n",
       "...                                    ...  ...   ...   ...   ...   ...   ...   \n",
       "18939                      América de Cali  ...  47+2  47+2  47+2  47+2  47+2   \n",
       "18940  Chongqing Dangdai Lifan FC SWM Team  ...  42+2  41+2  41+2  41+2  42+2   \n",
       "18941                      Tianjin TEDA FC  ...  42+2  42+2  42+2  42+2  42+2   \n",
       "18942        Shijiazhuang Ever Bright F.C.  ...  47+2  49+2  49+2  49+2  47+2   \n",
       "18943                      Tianjin TEDA FC  ...  47+0  47+0  47+0  47+0  47+0   \n",
       "\n",
       "         lb   lcb    cb   rcb    rb  \n",
       "0      62+3  52+3  52+3  52+3  62+3  \n",
       "1      61+3  54+3  54+3  54+3  61+3  \n",
       "2      32+3  33+3  33+3  33+3  32+3  \n",
       "3      61+3  60+3  60+3  60+3  61+3  \n",
       "4      62+3  49+3  49+3  49+3  62+3  \n",
       "...     ...   ...   ...   ...   ...  \n",
       "18939  47+2  46+2  46+2  46+2  47+2  \n",
       "18940  45+2  47+2  47+2  47+2  45+2  \n",
       "18941  44+2  47+2  47+2  47+2  44+2  \n",
       "18942  47+2  49+2  49+2  49+2  47+2  \n",
       "18943  47+0  46+1  46+1  46+1  47+0  \n",
       "\n",
       "[18944 rows x 106 columns]"
      ]
     },
     "execution_count": 2,
     "metadata": {},
     "output_type": "execute_result"
    }
   ],
   "source": [
    "# load the data and inspect it\n",
    "df = pd.read_csv('kaggle_fifa21_players.csv')\n",
    "df"
   ]
  },
  {
   "cell_type": "markdown",
   "id": "97543b19",
   "metadata": {},
   "source": [
    "### Selection of data\n",
    "We make the task simpler by randomly selecting 2000 rows and only a few columns.  \n",
    "\n",
    "You may have noticed that some of the features (e.g. 'value_eur', 'wage_eur') strongly correlate with the 'overall' value. The task is a bit more interesting if we do not use those features but if we base the prediction on features that express some skills of the player."
   ]
  },
  {
   "cell_type": "code",
   "execution_count": 4,
   "id": "ceed126c",
   "metadata": {},
   "outputs": [
    {
     "data": {
      "text/html": [
       "<div>\n",
       "<style scoped>\n",
       "    .dataframe tbody tr th:only-of-type {\n",
       "        vertical-align: middle;\n",
       "    }\n",
       "\n",
       "    .dataframe tbody tr th {\n",
       "        vertical-align: top;\n",
       "    }\n",
       "\n",
       "    .dataframe thead th {\n",
       "        text-align: right;\n",
       "    }\n",
       "</style>\n",
       "<table border=\"1\" class=\"dataframe\">\n",
       "  <thead>\n",
       "    <tr style=\"text-align: right;\">\n",
       "      <th></th>\n",
       "      <th>overall</th>\n",
       "      <th>skill_moves</th>\n",
       "      <th>pace</th>\n",
       "      <th>shooting</th>\n",
       "      <th>passing</th>\n",
       "      <th>dribbling</th>\n",
       "      <th>defending</th>\n",
       "      <th>physic</th>\n",
       "    </tr>\n",
       "  </thead>\n",
       "  <tbody>\n",
       "    <tr>\n",
       "      <th>15334</th>\n",
       "      <td>60</td>\n",
       "      <td>1</td>\n",
       "      <td>NaN</td>\n",
       "      <td>NaN</td>\n",
       "      <td>NaN</td>\n",
       "      <td>NaN</td>\n",
       "      <td>NaN</td>\n",
       "      <td>NaN</td>\n",
       "    </tr>\n",
       "    <tr>\n",
       "      <th>1818</th>\n",
       "      <td>75</td>\n",
       "      <td>4</td>\n",
       "      <td>76.0</td>\n",
       "      <td>73.0</td>\n",
       "      <td>76.0</td>\n",
       "      <td>79.0</td>\n",
       "      <td>40.0</td>\n",
       "      <td>55.0</td>\n",
       "    </tr>\n",
       "    <tr>\n",
       "      <th>2106</th>\n",
       "      <td>74</td>\n",
       "      <td>2</td>\n",
       "      <td>65.0</td>\n",
       "      <td>23.0</td>\n",
       "      <td>43.0</td>\n",
       "      <td>40.0</td>\n",
       "      <td>77.0</td>\n",
       "      <td>74.0</td>\n",
       "    </tr>\n",
       "    <tr>\n",
       "      <th>5883</th>\n",
       "      <td>69</td>\n",
       "      <td>3</td>\n",
       "      <td>54.0</td>\n",
       "      <td>56.0</td>\n",
       "      <td>60.0</td>\n",
       "      <td>63.0</td>\n",
       "      <td>67.0</td>\n",
       "      <td>83.0</td>\n",
       "    </tr>\n",
       "    <tr>\n",
       "      <th>2625</th>\n",
       "      <td>73</td>\n",
       "      <td>1</td>\n",
       "      <td>NaN</td>\n",
       "      <td>NaN</td>\n",
       "      <td>NaN</td>\n",
       "      <td>NaN</td>\n",
       "      <td>NaN</td>\n",
       "      <td>NaN</td>\n",
       "    </tr>\n",
       "    <tr>\n",
       "      <th>...</th>\n",
       "      <td>...</td>\n",
       "      <td>...</td>\n",
       "      <td>...</td>\n",
       "      <td>...</td>\n",
       "      <td>...</td>\n",
       "      <td>...</td>\n",
       "      <td>...</td>\n",
       "      <td>...</td>\n",
       "    </tr>\n",
       "    <tr>\n",
       "      <th>13047</th>\n",
       "      <td>62</td>\n",
       "      <td>3</td>\n",
       "      <td>64.0</td>\n",
       "      <td>52.0</td>\n",
       "      <td>58.0</td>\n",
       "      <td>69.0</td>\n",
       "      <td>33.0</td>\n",
       "      <td>43.0</td>\n",
       "    </tr>\n",
       "    <tr>\n",
       "      <th>17521</th>\n",
       "      <td>55</td>\n",
       "      <td>2</td>\n",
       "      <td>56.0</td>\n",
       "      <td>33.0</td>\n",
       "      <td>50.0</td>\n",
       "      <td>50.0</td>\n",
       "      <td>53.0</td>\n",
       "      <td>56.0</td>\n",
       "    </tr>\n",
       "    <tr>\n",
       "      <th>17587</th>\n",
       "      <td>55</td>\n",
       "      <td>2</td>\n",
       "      <td>60.0</td>\n",
       "      <td>55.0</td>\n",
       "      <td>41.0</td>\n",
       "      <td>54.0</td>\n",
       "      <td>22.0</td>\n",
       "      <td>46.0</td>\n",
       "    </tr>\n",
       "    <tr>\n",
       "      <th>11254</th>\n",
       "      <td>64</td>\n",
       "      <td>3</td>\n",
       "      <td>68.0</td>\n",
       "      <td>62.0</td>\n",
       "      <td>52.0</td>\n",
       "      <td>62.0</td>\n",
       "      <td>28.0</td>\n",
       "      <td>70.0</td>\n",
       "    </tr>\n",
       "    <tr>\n",
       "      <th>8423</th>\n",
       "      <td>67</td>\n",
       "      <td>3</td>\n",
       "      <td>79.0</td>\n",
       "      <td>53.0</td>\n",
       "      <td>54.0</td>\n",
       "      <td>60.0</td>\n",
       "      <td>61.0</td>\n",
       "      <td>64.0</td>\n",
       "    </tr>\n",
       "  </tbody>\n",
       "</table>\n",
       "<p>2000 rows × 8 columns</p>\n",
       "</div>"
      ],
      "text/plain": [
       "       overall  skill_moves  pace  shooting  passing  dribbling  defending  \\\n",
       "15334       60            1   NaN       NaN      NaN        NaN        NaN   \n",
       "1818        75            4  76.0      73.0     76.0       79.0       40.0   \n",
       "2106        74            2  65.0      23.0     43.0       40.0       77.0   \n",
       "5883        69            3  54.0      56.0     60.0       63.0       67.0   \n",
       "2625        73            1   NaN       NaN      NaN        NaN        NaN   \n",
       "...        ...          ...   ...       ...      ...        ...        ...   \n",
       "13047       62            3  64.0      52.0     58.0       69.0       33.0   \n",
       "17521       55            2  56.0      33.0     50.0       50.0       53.0   \n",
       "17587       55            2  60.0      55.0     41.0       54.0       22.0   \n",
       "11254       64            3  68.0      62.0     52.0       62.0       28.0   \n",
       "8423        67            3  79.0      53.0     54.0       60.0       61.0   \n",
       "\n",
       "       physic  \n",
       "15334     NaN  \n",
       "1818     55.0  \n",
       "2106     74.0  \n",
       "5883     83.0  \n",
       "2625      NaN  \n",
       "...       ...  \n",
       "13047    43.0  \n",
       "17521    56.0  \n",
       "17587    46.0  \n",
       "11254    70.0  \n",
       "8423     64.0  \n",
       "\n",
       "[2000 rows x 8 columns]"
      ]
     },
     "metadata": {},
     "output_type": "display_data"
    }
   ],
   "source": [
    "data = df[['overall', 'skill_moves', 'pace', 'shooting', 'passing', 'dribbling', 'defending', 'physic']]\n",
    "data = data.sample(n=2000)\n",
    "display(data)"
   ]
  },
  {
   "cell_type": "code",
   "execution_count": 5,
   "id": "a5200a26",
   "metadata": {},
   "outputs": [],
   "source": [
    "# split X and y. Split test and train\n",
    "\n",
    "data_X = data[['skill_moves', 'pace', 'shooting', 'passing', 'dribbling', 'defending', 'physic']]\n",
    "data_y = data.overall  # yes, we can access columns by name\n",
    "\n",
    "# put some data aside for testing. This data is NOT touched at all during learning\n",
    "# We have a lot of data to train a simple linear model. We can hava a relatively large test set.\n",
    "X_train, X_test, y_train, y_test = train_test_split(data_X, data_y, test_size=0.50)"
   ]
  },
  {
   "cell_type": "code",
   "execution_count": 6,
   "id": "11164e14",
   "metadata": {},
   "outputs": [
    {
     "data": {
      "text/plain": [
       "0"
      ]
     },
     "metadata": {},
     "output_type": "display_data"
    },
    {
     "data": {
      "text/plain": [
       "skill_moves      0\n",
       "pace           126\n",
       "shooting       126\n",
       "passing        126\n",
       "dribbling      126\n",
       "defending      126\n",
       "physic         126\n",
       "dtype: int64"
      ]
     },
     "metadata": {},
     "output_type": "display_data"
    }
   ],
   "source": [
    "# do some cleaning: do all rows have a value in 'overall' or are there nulls?\n",
    "display(y_train.isnull().sum())\n",
    "display(X_train.isnull().sum())  # isnull returns true/false. we can sum them."
   ]
  },
  {
   "cell_type": "code",
   "execution_count": 7,
   "id": "45b3bbb8",
   "metadata": {
    "scrolled": true
   },
   "outputs": [],
   "source": [
    "# there are nulls in the league_rank column\n",
    "# Depending on the project, there are different options how to deal with null values.\n",
    "# In a real project, you would have to carefully evaluate those null values!\n",
    "# Here we apply a very simple strategy: fill them with the column average.\n",
    "X_train.fillna(X_train.mean(), inplace=True)"
   ]
  },
  {
   "cell_type": "code",
   "execution_count": 8,
   "id": "cdfa007a",
   "metadata": {},
   "outputs": [
    {
     "data": {
      "text/plain": [
       "skill_moves    0\n",
       "pace           0\n",
       "shooting       0\n",
       "passing        0\n",
       "dribbling      0\n",
       "defending      0\n",
       "physic         0\n",
       "dtype: int64"
      ]
     },
     "metadata": {},
     "output_type": "display_data"
    }
   ],
   "source": [
    "# we get a SettingWithCopyWarning, but in our case it works fine:\n",
    "display(X_train.isnull().sum())"
   ]
  },
  {
   "cell_type": "markdown",
   "id": "59d5c1e0",
   "metadata": {},
   "source": [
    "### Single Linear Model\n",
    "Training a single linear model that uses all features and all data provides a baseline to compare the performance of the simpler models."
   ]
  },
  {
   "cell_type": "code",
   "execution_count": 9,
   "id": "9ae59f46",
   "metadata": {},
   "outputs": [
    {
     "name": "stdout",
     "output_type": "stream",
     "text": [
      "scaler.mean_=[ 2.34       67.82494279 52.78032037 56.89473684 62.51372998 49.99313501\n",
      " 64.07437071]\n",
      "scaler.scale_=[ 0.76837491 10.45563084 13.04583541  9.44787361  9.01090091 15.68119762\n",
      "  9.03704409]\n"
     ]
    }
   ],
   "source": [
    "# Before training, scale the data\n",
    "# scaling is common practice as it makes the different features comparable and \n",
    "# avoids problems with certain optimization techniques. \n",
    "from sklearn import preprocessing\n",
    "scaler = preprocessing.StandardScaler().fit(X_train)\n",
    "print('scaler.mean_={}'.format(scaler.mean_))\n",
    "print('scaler.scale_={}'.format(scaler.scale_))\n",
    "\n",
    "X_train_scaled = scaler.transform(X_train)"
   ]
  },
  {
   "cell_type": "code",
   "execution_count": 10,
   "id": "b88a38da",
   "metadata": {},
   "outputs": [
    {
     "name": "stdout",
     "output_type": "stream",
     "text": [
      "Coefficient of determination of the linear model:\n",
      "0.6381579657007943\n"
     ]
    }
   ],
   "source": [
    "# now do linear regression on the data:\n",
    "# in a first step, use a model, that has access to all data, all features.\n",
    "# later we use an ensemble of simpler linear models and see how close the\n",
    "# ensemble reaches the performance of this model.\n",
    "from sklearn.linear_model import LinearRegression\n",
    "\n",
    "lin_reg_model = LinearRegression().fit(X_train_scaled, y_train)\n",
    "\n",
    "# https://scikit-learn.org/stable/modules/generated/sklearn.linear_model.LinearRegression.html#sklearn.linear_model.LinearRegression.score\n",
    "# score is also known as 'coefficient of determination'\n",
    "# https://en.wikipedia.org/wiki/Coefficient_of_determination\n",
    "print('Coefficient of determination of the linear model:')\n",
    "print(lin_reg_model.score(X_train_scaled, y_train))"
   ]
  },
  {
   "cell_type": "code",
   "execution_count": 11,
   "id": "e0e5aeb2",
   "metadata": {},
   "outputs": [
    {
     "data": {
      "text/plain": [
       "array([ 0.93765826, -0.09937787,  1.13283872,  0.7271796 ,  2.56731142,\n",
       "        1.86718238,  2.23372084])"
      ]
     },
     "execution_count": 11,
     "metadata": {},
     "output_type": "execute_result"
    }
   ],
   "source": [
    "# The coefficients tell us how much each feature predicts the 'overall' value. \n",
    "# As we have normalized the features, the scores can be compared across features.\n",
    "# But: A simple model like this should not be used to draw conclusions about\n",
    "# single features. The reason is, that the features themselves are correlated .\n",
    "lin_reg_model.coef_"
   ]
  },
  {
   "cell_type": "markdown",
   "id": "04d18909",
   "metadata": {},
   "source": [
    "### Preprocessing the test data\n",
    "It is a common mistake to apply preprocessing steps (replacing null-values by mean and/or scaling) to the entire dataset. The problem is that by doing this, you leak information from the test-data to the training data (mean and std are no longer neutral, as they include test-data). As a result your test-data provides no longer an unbiased estimator of the generalization error.\n",
    "\n",
    "Consequently, we have to repeat *some* pre-processing steps here:  \n",
    "- It is important to REUSE the same scaler that was used for the training data.  \n",
    "- The treatment of null values is done independently on the test-data."
   ]
  },
  {
   "cell_type": "code",
   "execution_count": 12,
   "id": "abd22d72",
   "metadata": {},
   "outputs": [],
   "source": [
    "X_test.fillna(X_test.mean(), inplace=True)\n",
    "X_test_scaled = scaler.transform(X_test)"
   ]
  },
  {
   "cell_type": "markdown",
   "id": "c2a8f41e",
   "metadata": {},
   "source": [
    "## Ensemble of linear models\n",
    "When composing an ensemble, we have different choices:  \n",
    "- The models can have different algorithms\n",
    "- The models can use different features\n",
    "- The models can be trained on different data\n",
    "\n",
    "In this example, all models use the same algorithm (Linear Regression), but they differ in data and features.  Note that in this example, each linear model in the ensemble sees only **5 percent of the training data**.\n",
    "\n",
    "Change the parameter values and observe how the performance scores are affected by your choices.  \n"
   ]
  },
  {
   "cell_type": "code",
   "execution_count": 14,
   "id": "6e9146e5",
   "metadata": {},
   "outputs": [
    {
     "name": "stderr",
     "output_type": "stream",
     "text": [
      "c:\\Users\\mrcls\\.conda\\envs\\AIFO23\\lib\\site-packages\\sklearn\\ensemble\\_base.py:156: FutureWarning: `base_estimator` was renamed to `estimator` in version 1.2 and will be removed in 1.4.\n",
      "  warnings.warn(\n"
     ]
    }
   ],
   "source": [
    "from sklearn.ensemble import BaggingRegressor\n",
    "\n",
    "baggingRegressor = BaggingRegressor(base_estimator=LinearRegression(),\n",
    "                                    n_estimators=50, \n",
    "                                    max_samples=0.2,  # each model is trained on 5% of the data (with replacement)\n",
    "                                    max_features=4,# each model is sees only 6 (random) of 7 ftrs\n",
    "                                    bootstrap = True,\n",
    "                                    random_state=0, \n",
    "                                    oob_score = True)\n",
    "baggingRegressor = baggingRegressor.fit(X_train_scaled, y_train)"
   ]
  },
  {
   "cell_type": "markdown",
   "id": "32bd25c1",
   "metadata": {},
   "source": [
    "### Performance of the ensemble and of individual models in the ensemble"
   ]
  },
  {
   "cell_type": "code",
   "execution_count": 16,
   "id": "ccdbc403",
   "metadata": {},
   "outputs": [
    {
     "name": "stdout",
     "output_type": "stream",
     "text": [
      "coefficient of determination (aka score, aka R2) on test data:\n"
     ]
    },
    {
     "data": {
      "text/plain": [
       "0.6479853819644307"
      ]
     },
     "execution_count": 16,
     "metadata": {},
     "output_type": "execute_result"
    }
   ],
   "source": [
    "# evaluate the model. The ensemble reaches practically the same performance as the\n",
    "# more complex model which was trained on all training data.\n",
    "print('coefficient of determination (aka score, aka R2) on test data:')\n",
    "baggingRegressor.score(X_test_scaled, y_test)"
   ]
  },
  {
   "cell_type": "code",
   "execution_count": 17,
   "id": "dd916843",
   "metadata": {},
   "outputs": [
    {
     "data": {
      "text/plain": [
       "0.6171831973841941"
      ]
     },
     "execution_count": 17,
     "metadata": {},
     "output_type": "execute_result"
    }
   ],
   "source": [
    "# oob_score is an estimate of the score based on data in \n",
    "# the TRAINING data set, but that was NOT used (by chance) during training!\n",
    "# https://scikit-learn.org/stable/modules/generated/sklearn.ensemble.BaggingRegressor.html\n",
    "baggingRegressor.oob_score_"
   ]
  },
  {
   "cell_type": "code",
   "execution_count": 18,
   "id": "1a7c23c4",
   "metadata": {},
   "outputs": [
    {
     "name": "stdout",
     "output_type": "stream",
     "text": [
      "idx of features used to train model #2:\n",
      "[0 1 6 2]\n"
     ]
    },
    {
     "data": {
      "text/plain": [
       "0.4862286417144196"
      ]
     },
     "execution_count": 18,
     "metadata": {},
     "output_type": "execute_result"
    }
   ],
   "source": [
    "# to get more insights, we access and evaluate every single model in the ensemble\n",
    "\n",
    "# example: we access the model#2:\n",
    "idx_estimator = 2\n",
    "\n",
    "#get the estimator\n",
    "simple_linear_model = baggingRegressor.estimators_[idx_estimator]\n",
    "\n",
    "# each model is trained on random features:\n",
    "idx_ftrs = baggingRegressor.estimators_features_[idx_estimator]\n",
    "print('idx of features used to train model #{}:'.format(idx_estimator))\n",
    "print(idx_ftrs)\n",
    "\n",
    "simple_linear_model.score(X_test_scaled[:,idx_ftrs], y_test)\n"
   ]
  },
  {
   "cell_type": "code",
   "execution_count": 20,
   "id": "0257b7f5",
   "metadata": {},
   "outputs": [],
   "source": [
    "# we can evaluate the performance of every single simple model in the ensemble:\n",
    "nr_models = len(baggingRegressor.estimators_)\n",
    "all_scores = np.zeros(nr_models)\n",
    "sum_scores = 0.0\n",
    "\n",
    "for i in range(nr_models):\n",
    "    lin_mod = baggingRegressor.estimators_[i]\n",
    "    idx_ftrs = baggingRegressor.estimators_features_[i]\n",
    "    score_i = lin_mod.score(X_test_scaled[:,idx_ftrs], y_test)\n",
    "    all_scores[i] = score_i\n",
    "    sum_scores += score_i\n",
    "\n",
    "average_score = sum_scores/nr_models"
   ]
  },
  {
   "cell_type": "code",
   "execution_count": 21,
   "id": "4c103ddc",
   "metadata": {},
   "outputs": [
    {
     "data": {
      "text/plain": [
       "Text(0.5, 1.0, 'Histogram of scores')"
      ]
     },
     "execution_count": 21,
     "metadata": {},
     "output_type": "execute_result"
    },
    {
     "data": {
      "image/png": "[encoded data removed]",
      "text/plain": [
       "<Figure size 640x480 with 1 Axes>"
      ]
     },
     "metadata": {},
     "output_type": "display_data"
    }
   ],
   "source": [
    "# visualize the scores of the different models\n",
    "p = sns.histplot(all_scores, bins=21)\n",
    "p.set_xlabel('coefficient of determination')\n",
    "p.set_title('Histogram of scores')"
   ]
  },
  {
   "cell_type": "code",
   "execution_count": 46,
   "id": "3aeb4b31",
   "metadata": {},
   "outputs": [
    {
     "name": "stdout",
     "output_type": "stream",
     "text": [
      "0.6267983315948943\n"
     ]
    }
   ],
   "source": [
    "print(np.max(all_scores))"
   ]
  },
  {
   "cell_type": "code",
   "execution_count": 22,
   "id": "02856cfc",
   "metadata": {},
   "outputs": [
    {
     "name": "stdout",
     "output_type": "stream",
     "text": [
      "0.5651775796556546\n"
     ]
    }
   ],
   "source": [
    "print(average_score)"
   ]
  },
  {
   "cell_type": "markdown",
   "id": "8e08abfa",
   "metadata": {},
   "source": [
    "## Performance of the best model in the ensemble\n",
    "The result we obtain depends on the features, the data, and the random samples. For those reasons, you probably observe different scores.  \n",
    "Here we observe np.max(all_scores)=0.6679 which is only slightly worse than the ensemble score 0.6702.  \n",
    "If you run this notebook several times, it is possible that a single model in the ensemble performs *better* than the ensemble. The reason is, that if we train hundreds or models, there is a chance that every now and then, the random samples drawn from the training set are more similar to the test set and that the model trained with those data is, *just by chance*, better than expected.  \n",
    "\n",
    "**But remember: the performance of a single model in the ensemble is irrelevant. In general, the ensemble performs better than the single models and generalizes better to unseen data**."
   ]
  },
  {
   "cell_type": "code",
   "execution_count": 23,
   "id": "33d410c1",
   "metadata": {},
   "outputs": [
    {
     "name": "stderr",
     "output_type": "stream",
     "text": [
      "c:\\Users\\mrcls\\.conda\\envs\\AIFO23\\lib\\site-packages\\sklearn\\ensemble\\_base.py:156: FutureWarning: `base_estimator` was renamed to `estimator` in version 1.2 and will be removed in 1.4.\n",
      "  warnings.warn(\n"
     ]
    },
    {
     "data": {
      "text/plain": [
       "0.6628881176130519"
      ]
     },
     "execution_count": 23,
     "metadata": {},
     "output_type": "execute_result"
    }
   ],
   "source": [
    "from sklearn.ensemble import AdaBoostRegressor\n",
    "regr = AdaBoostRegressor(base_estimator = LinearRegression(), random_state=0, n_estimators=100)\n",
    "regr.fit(X_train_scaled, y_train)\n",
    "AdaBoostRegressor(n_estimators=100, random_state=0)\n",
    "regr.score(X_test_scaled, y_test)"
   ]
  },
  {
   "cell_type": "code",
   "execution_count": 24,
   "id": "1b42153e",
   "metadata": {},
   "outputs": [
    {
     "data": {
      "text/plain": [
       "0.6904733038765578"
      ]
     },
     "execution_count": 24,
     "metadata": {},
     "output_type": "execute_result"
    }
   ],
   "source": [
    "from sklearn.ensemble import AdaBoostRegressor\n",
    "regr = AdaBoostRegressor(random_state=0, n_estimators=100)\n",
    "regr.fit(X_train_scaled, y_train)\n",
    "AdaBoostRegressor(n_estimators=100, random_state=0)\n",
    "regr.score(X_test_scaled, y_test)"
   ]
  },
  {
   "cell_type": "code",
   "execution_count": 25,
   "id": "e5da6fc8",
   "metadata": {},
   "outputs": [
    {
     "data": {
      "text/plain": [
       "0.8224909010367611"
      ]
     },
     "execution_count": 25,
     "metadata": {},
     "output_type": "execute_result"
    }
   ],
   "source": [
    "from sklearn.ensemble import GradientBoostingRegressor\n",
    "Gregr = GradientBoostingRegressor(random_state=0, n_estimators=100)\n",
    "Gregr.fit(X_train_scaled, y_train)\n",
    "Gregr.score(X_test_scaled, y_test)"
   ]
  }
 ],
 "metadata": {
  "kernelspec": {
   "display_name": "Python 3 (ipykernel)",
   "language": "python",
   "name": "python3"
  },
  "language_info": {
   "codemirror_mode": {
    "name": "ipython",
    "version": 3
   },
   "file_extension": ".py",
   "mimetype": "text/x-python",
   "name": "python",
   "nbconvert_exporter": "python",
   "pygments_lexer": "ipython3",
   "version": "3.10.13"
  }
 },
 "nbformat": 4,
 "nbformat_minor": 5
}
